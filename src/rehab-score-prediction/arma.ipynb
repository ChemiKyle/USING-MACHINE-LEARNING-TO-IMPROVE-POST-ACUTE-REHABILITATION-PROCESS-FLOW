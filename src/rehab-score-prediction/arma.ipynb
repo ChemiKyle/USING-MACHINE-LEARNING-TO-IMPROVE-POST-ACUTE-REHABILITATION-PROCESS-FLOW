{
 "cells": [
  {
   "cell_type": "code",
   "execution_count": 5,
   "metadata": {},
   "outputs": [
    {
     "name": "stdout",
     "output_type": "stream",
     "text": [
      "Collecting pmdarima\n",
      "\u001b[?25l  Downloading https://files.pythonhosted.org/packages/20/cf/c2de18ee911c38547cc43a4110555a1aaec1afb9d719561d0cd2fbca21b0/pmdarima-1.4.0-cp37-cp37m-macosx_10_13_x86_64.whl (478kB)\n",
      "\u001b[K     |████████████████████████████████| 481kB 3.1MB/s eta 0:00:01\n",
      "\u001b[?25hRequirement already satisfied: joblib>=0.11 in /Users/lisa/ENTER/lib/python3.7/site-packages (from pmdarima) (0.13.2)\n",
      "Requirement already satisfied: Cython>=0.29 in /Users/lisa/ENTER/lib/python3.7/site-packages (from pmdarima) (0.29.13)\n",
      "Requirement already satisfied: pandas>=0.19 in /Users/lisa/ENTER/lib/python3.7/site-packages (from pmdarima) (0.25.1)\n",
      "Requirement already satisfied: scipy>=1.3 in /Users/lisa/ENTER/lib/python3.7/site-packages (from pmdarima) (1.3.1)\n",
      "Requirement already satisfied: six>=1.5 in /Users/lisa/ENTER/lib/python3.7/site-packages (from pmdarima) (1.12.0)\n",
      "Requirement already satisfied: statsmodels>=0.10.0 in /Users/lisa/ENTER/lib/python3.7/site-packages (from pmdarima) (0.10.1)\n",
      "Requirement already satisfied: numpy>=1.16 in /Users/lisa/ENTER/lib/python3.7/site-packages (from pmdarima) (1.17.2)\n",
      "Requirement already satisfied: scikit-learn>=0.19 in /Users/lisa/ENTER/lib/python3.7/site-packages (from pmdarima) (0.21.3)\n",
      "Requirement already satisfied: pytz>=2017.2 in /Users/lisa/ENTER/lib/python3.7/site-packages (from pandas>=0.19->pmdarima) (2019.3)\n",
      "Requirement already satisfied: python-dateutil>=2.6.1 in /Users/lisa/ENTER/lib/python3.7/site-packages (from pandas>=0.19->pmdarima) (2.8.0)\n",
      "Requirement already satisfied: patsy>=0.4.0 in /Users/lisa/ENTER/lib/python3.7/site-packages (from statsmodels>=0.10.0->pmdarima) (0.5.1)\n",
      "Installing collected packages: pmdarima\n",
      "Successfully installed pmdarima-1.4.0\n",
      "Note: you may need to restart the kernel to use updated packages.\n"
     ]
    }
   ],
   "source": [
    "pip install pmdarima"
   ]
  },
  {
   "cell_type": "code",
   "execution_count": 6,
   "metadata": {},
   "outputs": [],
   "source": [
    "import pandas as pd\n",
    "import numpy as np\n",
    "%matplotlib inline\n",
    "# Load specific forecasting tools\n",
    "from statsmodels.tsa.arima_model import ARMA,ARMAResults,ARIMA,ARIMAResults\n",
    "from statsmodels.graphics.tsaplots import plot_acf,plot_pacf # for determining (p,q) orders\n",
    "from pmdarima import auto_arima # for determining ARIMA orders\n",
    "\n",
    "# Ignore harmless warnings\n",
    "import warnings\n",
    "warnings.filterwarnings(\"ignore\")"
   ]
  },
  {
   "cell_type": "code",
   "execution_count": 37,
   "metadata": {},
   "outputs": [
    {
     "data": {
      "text/html": [
       "<div>\n",
       "<style scoped>\n",
       "    .dataframe tbody tr th:only-of-type {\n",
       "        vertical-align: middle;\n",
       "    }\n",
       "\n",
       "    .dataframe tbody tr th {\n",
       "        vertical-align: top;\n",
       "    }\n",
       "\n",
       "    .dataframe thead th {\n",
       "        text-align: right;\n",
       "    }\n",
       "</style>\n",
       "<table border=\"1\" class=\"dataframe\">\n",
       "  <thead>\n",
       "    <tr style=\"text-align: right;\">\n",
       "      <th></th>\n",
       "      <th>Dates</th>\n",
       "      <th>NbrQual</th>\n",
       "      <th>NbrNonQual</th>\n",
       "    </tr>\n",
       "  </thead>\n",
       "  <tbody>\n",
       "    <tr>\n",
       "      <td>0</td>\n",
       "      <td>2015-12-29</td>\n",
       "      <td>2</td>\n",
       "      <td>1</td>\n",
       "    </tr>\n",
       "    <tr>\n",
       "      <td>1</td>\n",
       "      <td>2015-12-30</td>\n",
       "      <td>2</td>\n",
       "      <td>1</td>\n",
       "    </tr>\n",
       "    <tr>\n",
       "      <td>2</td>\n",
       "      <td>2015-12-31</td>\n",
       "      <td>2</td>\n",
       "      <td>1</td>\n",
       "    </tr>\n",
       "    <tr>\n",
       "      <td>3</td>\n",
       "      <td>2016-01-01</td>\n",
       "      <td>3</td>\n",
       "      <td>1</td>\n",
       "    </tr>\n",
       "    <tr>\n",
       "      <td>4</td>\n",
       "      <td>2016-01-02</td>\n",
       "      <td>3</td>\n",
       "      <td>1</td>\n",
       "    </tr>\n",
       "  </tbody>\n",
       "</table>\n",
       "</div>"
      ],
      "text/plain": [
       "        Dates  NbrQual  NbrNonQual\n",
       "0  2015-12-29        2           1\n",
       "1  2015-12-30        2           1\n",
       "2  2015-12-31        2           1\n",
       "3  2016-01-01        3           1\n",
       "4  2016-01-02        3           1"
      ]
     },
     "execution_count": 37,
     "metadata": {},
     "output_type": "execute_result"
    }
   ],
   "source": [
    "timeSeries = pd.read_csv('time_series.csv')\n",
    "timeSeries= timeSeries[[ 'Dates', 'NbrQual', 'NbrNonQual']]\n",
    "timeSeries.head()"
   ]
  },
  {
   "cell_type": "code",
   "execution_count": 38,
   "metadata": {},
   "outputs": [],
   "source": [
    "timeSeries['Dates'] = pd.to_datetime(timeSeries['Dates'])\n",
    "timeSeries['week'] = timeSeries['Dates'].dt.week\n",
    "timeSeries['year'] = timeSeries['Dates'].dt.year"
   ]
  },
  {
   "cell_type": "code",
   "execution_count": 39,
   "metadata": {},
   "outputs": [
    {
     "data": {
      "text/plain": [
       "2016    366\n",
       "2018    365\n",
       "2017    363\n",
       "2019    200\n",
       "2015      3\n",
       "Name: year, dtype: int64"
      ]
     },
     "execution_count": 39,
     "metadata": {},
     "output_type": "execute_result"
    }
   ],
   "source": [
    "timeSeries['year'].value_counts()"
   ]
  },
  {
   "cell_type": "code",
   "execution_count": 42,
   "metadata": {},
   "outputs": [
    {
     "data": {
      "text/plain": [
       "2019    200\n",
       "Name: year, dtype: int64"
      ]
     },
     "execution_count": 42,
     "metadata": {},
     "output_type": "execute_result"
    }
   ],
   "source": [
    "#time prediction using time need to use recent data\n",
    "timeSeries = timeSeries[timeSeries['year'] == 2019]\n",
    "timeSeries['year'].value_counts()"
   ]
  },
  {
   "cell_type": "code",
   "execution_count": 43,
   "metadata": {},
   "outputs": [],
   "source": [
    "timeSeries = timeSeries[['Dates', 'NbrQual']]\n",
    "timeSeries =timeSeries[timeSeries['Dates'] <  '2019-06-01'] \n",
    "timeSeries = timeSeries.set_index('Dates')"
   ]
  },
  {
   "cell_type": "code",
   "execution_count": 44,
   "metadata": {},
   "outputs": [
    {
     "data": {
      "text/plain": [
       "<matplotlib.axes._subplots.AxesSubplot at 0x1c25bb4290>"
      ]
     },
     "execution_count": 44,
     "metadata": {},
     "output_type": "execute_result"
    },
    {
     "data": {
      "image/png": "[encoded data removed]",
      "text/plain": [
       "<Figure size 432x288 with 1 Axes>"
      ]
     },
     "metadata": {},
     "output_type": "display_data"
    }
   ],
   "source": [
    "timeSeries.plot()"
   ]
  },
  {
   "cell_type": "code",
   "execution_count": 45,
   "metadata": {},
   "outputs": [],
   "source": [
    "train = timeSeries.iloc[:140]\n",
    "test = timeSeries.iloc[140:]"
   ]
  },
  {
   "cell_type": "code",
   "execution_count": 46,
   "metadata": {},
   "outputs": [
    {
     "data": {
      "text/html": [
       "<table class=\"simpletable\">\n",
       "<caption>ARMA Model Results</caption>\n",
       "<tr>\n",
       "  <th>Dep. Variable:</th>      <td>NbrQual</td>     <th>  No. Observations:  </th>    <td>140</td>  \n",
       "</tr>\n",
       "<tr>\n",
       "  <th>Model:</th>            <td>ARMA(2, 1)</td>    <th>  Log Likelihood     </th> <td>-291.325</td>\n",
       "</tr>\n",
       "<tr>\n",
       "  <th>Method:</th>             <td>css-mle</td>     <th>  S.D. of innovations</th>   <td>1.926</td> \n",
       "</tr>\n",
       "<tr>\n",
       "  <th>Date:</th>          <td>Sun, 10 Nov 2019</td> <th>  AIC                </th>  <td>592.649</td>\n",
       "</tr>\n",
       "<tr>\n",
       "  <th>Time:</th>              <td>16:22:44</td>     <th>  BIC                </th>  <td>607.357</td>\n",
       "</tr>\n",
       "<tr>\n",
       "  <th>Sample:</th>           <td>01-01-2019</td>    <th>  HQIC               </th>  <td>598.626</td>\n",
       "</tr>\n",
       "<tr>\n",
       "  <th></th>                 <td>- 05-20-2019</td>   <th>                     </th>     <td> </td>   \n",
       "</tr>\n",
       "</table>\n",
       "<table class=\"simpletable\">\n",
       "<tr>\n",
       "        <td></td>           <th>coef</th>     <th>std err</th>      <th>z</th>      <th>P>|z|</th>  <th>[0.025</th>    <th>0.975]</th>  \n",
       "</tr>\n",
       "<tr>\n",
       "  <th>const</th>         <td>   25.4520</td> <td>    1.900</td> <td>   13.397</td> <td> 0.000</td> <td>   21.729</td> <td>   29.175</td>\n",
       "</tr>\n",
       "<tr>\n",
       "  <th>ar.L1.NbrQual</th> <td>    0.0879</td> <td>    0.189</td> <td>    0.466</td> <td> 0.642</td> <td>   -0.282</td> <td>    0.458</td>\n",
       "</tr>\n",
       "<tr>\n",
       "  <th>ar.L2.NbrQual</th> <td>    0.7706</td> <td>    0.170</td> <td>    4.527</td> <td> 0.000</td> <td>    0.437</td> <td>    1.104</td>\n",
       "</tr>\n",
       "<tr>\n",
       "  <th>ma.L1.NbrQual</th> <td>    0.7722</td> <td>    0.209</td> <td>    3.695</td> <td> 0.000</td> <td>    0.363</td> <td>    1.182</td>\n",
       "</tr>\n",
       "</table>\n",
       "<table class=\"simpletable\">\n",
       "<caption>Roots</caption>\n",
       "<tr>\n",
       "    <td></td>   <th>            Real</th>  <th>         Imaginary</th> <th>         Modulus</th>  <th>        Frequency</th>\n",
       "</tr>\n",
       "<tr>\n",
       "  <th>AR.1</th> <td>           1.0835</td> <td>          +0.0000j</td> <td>           1.0835</td> <td>           0.0000</td>\n",
       "</tr>\n",
       "<tr>\n",
       "  <th>AR.2</th> <td>          -1.1976</td> <td>          +0.0000j</td> <td>           1.1976</td> <td>           0.5000</td>\n",
       "</tr>\n",
       "<tr>\n",
       "  <th>MA.1</th> <td>          -1.2950</td> <td>          +0.0000j</td> <td>           1.2950</td> <td>           0.5000</td>\n",
       "</tr>\n",
       "</table>"
      ],
      "text/plain": [
       "<class 'statsmodels.iolib.summary.Summary'>\n",
       "\"\"\"\n",
       "                              ARMA Model Results                              \n",
       "==============================================================================\n",
       "Dep. Variable:                NbrQual   No. Observations:                  140\n",
       "Model:                     ARMA(2, 1)   Log Likelihood                -291.325\n",
       "Method:                       css-mle   S.D. of innovations              1.926\n",
       "Date:                Sun, 10 Nov 2019   AIC                            592.649\n",
       "Time:                        16:22:44   BIC                            607.357\n",
       "Sample:                    01-01-2019   HQIC                           598.626\n",
       "                         - 05-20-2019                                         \n",
       "=================================================================================\n",
       "                    coef    std err          z      P>|z|      [0.025      0.975]\n",
       "---------------------------------------------------------------------------------\n",
       "const            25.4520      1.900     13.397      0.000      21.729      29.175\n",
       "ar.L1.NbrQual     0.0879      0.189      0.466      0.642      -0.282       0.458\n",
       "ar.L2.NbrQual     0.7706      0.170      4.527      0.000       0.437       1.104\n",
       "ma.L1.NbrQual     0.7722      0.209      3.695      0.000       0.363       1.182\n",
       "                                    Roots                                    \n",
       "=============================================================================\n",
       "                  Real          Imaginary           Modulus         Frequency\n",
       "-----------------------------------------------------------------------------\n",
       "AR.1            1.0835           +0.0000j            1.0835            0.0000\n",
       "AR.2           -1.1976           +0.0000j            1.1976            0.5000\n",
       "MA.1           -1.2950           +0.0000j            1.2950            0.5000\n",
       "-----------------------------------------------------------------------------\n",
       "\"\"\""
      ]
     },
     "execution_count": 46,
     "metadata": {},
     "output_type": "execute_result"
    }
   ],
   "source": [
    "model = ARMA(train['NbrQual'],order=(2,1))\n",
    "results = model.fit()\n",
    "results.summary()"
   ]
  },
  {
   "cell_type": "code",
   "execution_count": 47,
   "metadata": {},
   "outputs": [],
   "source": [
    "start=len(train)\n",
    "end=len(train)+len(test)-1\n",
    "predictions = results.predict(start=start, end=end)"
   ]
  },
  {
   "cell_type": "code",
   "execution_count": 48,
   "metadata": {
    "scrolled": true
   },
   "outputs": [
    {
     "data": {
      "text/html": [
       "<div>\n",
       "<style scoped>\n",
       "    .dataframe tbody tr th:only-of-type {\n",
       "        vertical-align: middle;\n",
       "    }\n",
       "\n",
       "    .dataframe tbody tr th {\n",
       "        vertical-align: top;\n",
       "    }\n",
       "\n",
       "    .dataframe thead th {\n",
       "        text-align: right;\n",
       "    }\n",
       "</style>\n",
       "<table border=\"1\" class=\"dataframe\">\n",
       "  <thead>\n",
       "    <tr style=\"text-align: right;\">\n",
       "      <th></th>\n",
       "      <th>Dates</th>\n",
       "      <th>PredNbrQual</th>\n",
       "    </tr>\n",
       "  </thead>\n",
       "  <tbody>\n",
       "    <tr>\n",
       "      <td>0</td>\n",
       "      <td>2019-05-21</td>\n",
       "      <td>33.464011</td>\n",
       "    </tr>\n",
       "    <tr>\n",
       "      <td>1</td>\n",
       "      <td>2019-05-22</td>\n",
       "      <td>32.743435</td>\n",
       "    </tr>\n",
       "    <tr>\n",
       "      <td>2</td>\n",
       "      <td>2019-05-23</td>\n",
       "      <td>32.267061</td>\n",
       "    </tr>\n",
       "    <tr>\n",
       "      <td>3</td>\n",
       "      <td>2019-05-24</td>\n",
       "      <td>31.669902</td>\n",
       "    </tr>\n",
       "    <tr>\n",
       "      <td>4</td>\n",
       "      <td>2019-05-25</td>\n",
       "      <td>31.250315</td>\n",
       "    </tr>\n",
       "    <tr>\n",
       "      <td>5</td>\n",
       "      <td>2019-05-26</td>\n",
       "      <td>30.753254</td>\n",
       "    </tr>\n",
       "    <tr>\n",
       "      <td>6</td>\n",
       "      <td>2019-05-27</td>\n",
       "      <td>30.386226</td>\n",
       "    </tr>\n",
       "    <tr>\n",
       "      <td>7</td>\n",
       "      <td>2019-05-28</td>\n",
       "      <td>29.970922</td>\n",
       "    </tr>\n",
       "    <tr>\n",
       "      <td>8</td>\n",
       "      <td>2019-05-29</td>\n",
       "      <td>29.651583</td>\n",
       "    </tr>\n",
       "    <tr>\n",
       "      <td>9</td>\n",
       "      <td>2019-05-30</td>\n",
       "      <td>29.303474</td>\n",
       "    </tr>\n",
       "    <tr>\n",
       "      <td>10</td>\n",
       "      <td>2019-05-31</td>\n",
       "      <td>29.026790</td>\n",
       "    </tr>\n",
       "  </tbody>\n",
       "</table>\n",
       "</div>"
      ],
      "text/plain": [
       "        Dates  PredNbrQual\n",
       "0  2019-05-21    33.464011\n",
       "1  2019-05-22    32.743435\n",
       "2  2019-05-23    32.267061\n",
       "3  2019-05-24    31.669902\n",
       "4  2019-05-25    31.250315\n",
       "5  2019-05-26    30.753254\n",
       "6  2019-05-27    30.386226\n",
       "7  2019-05-28    29.970922\n",
       "8  2019-05-29    29.651583\n",
       "9  2019-05-30    29.303474\n",
       "10 2019-05-31    29.026790"
      ]
     },
     "execution_count": 48,
     "metadata": {},
     "output_type": "execute_result"
    }
   ],
   "source": [
    "pred = predictions.to_frame().reset_index().rename(columns={'index':'Dates',0:'PredNbrQual'})\n",
    "pred"
   ]
  },
  {
   "cell_type": "code",
   "execution_count": 49,
   "metadata": {},
   "outputs": [
    {
     "data": {
      "text/html": [
       "<div>\n",
       "<style scoped>\n",
       "    .dataframe tbody tr th:only-of-type {\n",
       "        vertical-align: middle;\n",
       "    }\n",
       "\n",
       "    .dataframe tbody tr th {\n",
       "        vertical-align: top;\n",
       "    }\n",
       "\n",
       "    .dataframe thead th {\n",
       "        text-align: right;\n",
       "    }\n",
       "</style>\n",
       "<table border=\"1\" class=\"dataframe\">\n",
       "  <thead>\n",
       "    <tr style=\"text-align: right;\">\n",
       "      <th></th>\n",
       "      <th>Dates</th>\n",
       "      <th>NbrQual</th>\n",
       "    </tr>\n",
       "  </thead>\n",
       "  <tbody>\n",
       "    <tr>\n",
       "      <td>0</td>\n",
       "      <td>2019-05-21</td>\n",
       "      <td>32</td>\n",
       "    </tr>\n",
       "    <tr>\n",
       "      <td>1</td>\n",
       "      <td>2019-05-22</td>\n",
       "      <td>32</td>\n",
       "    </tr>\n",
       "    <tr>\n",
       "      <td>2</td>\n",
       "      <td>2019-05-23</td>\n",
       "      <td>34</td>\n",
       "    </tr>\n",
       "    <tr>\n",
       "      <td>3</td>\n",
       "      <td>2019-05-24</td>\n",
       "      <td>30</td>\n",
       "    </tr>\n",
       "    <tr>\n",
       "      <td>4</td>\n",
       "      <td>2019-05-25</td>\n",
       "      <td>28</td>\n",
       "    </tr>\n",
       "    <tr>\n",
       "      <td>5</td>\n",
       "      <td>2019-05-26</td>\n",
       "      <td>28</td>\n",
       "    </tr>\n",
       "    <tr>\n",
       "      <td>6</td>\n",
       "      <td>2019-05-27</td>\n",
       "      <td>28</td>\n",
       "    </tr>\n",
       "    <tr>\n",
       "      <td>7</td>\n",
       "      <td>2019-05-28</td>\n",
       "      <td>29</td>\n",
       "    </tr>\n",
       "    <tr>\n",
       "      <td>8</td>\n",
       "      <td>2019-05-29</td>\n",
       "      <td>29</td>\n",
       "    </tr>\n",
       "    <tr>\n",
       "      <td>9</td>\n",
       "      <td>2019-05-30</td>\n",
       "      <td>28</td>\n",
       "    </tr>\n",
       "    <tr>\n",
       "      <td>10</td>\n",
       "      <td>2019-05-31</td>\n",
       "      <td>30</td>\n",
       "    </tr>\n",
       "  </tbody>\n",
       "</table>\n",
       "</div>"
      ],
      "text/plain": [
       "        Dates  NbrQual\n",
       "0  2019-05-21       32\n",
       "1  2019-05-22       32\n",
       "2  2019-05-23       34\n",
       "3  2019-05-24       30\n",
       "4  2019-05-25       28\n",
       "5  2019-05-26       28\n",
       "6  2019-05-27       28\n",
       "7  2019-05-28       29\n",
       "8  2019-05-29       29\n",
       "9  2019-05-30       28\n",
       "10 2019-05-31       30"
      ]
     },
     "execution_count": 49,
     "metadata": {},
     "output_type": "execute_result"
    }
   ],
   "source": [
    "test=test.reset_index()\n",
    "test"
   ]
  },
  {
   "cell_type": "code",
   "execution_count": 50,
   "metadata": {},
   "outputs": [
    {
     "data": {
      "text/html": [
       "<div>\n",
       "<style scoped>\n",
       "    .dataframe tbody tr th:only-of-type {\n",
       "        vertical-align: middle;\n",
       "    }\n",
       "\n",
       "    .dataframe tbody tr th {\n",
       "        vertical-align: top;\n",
       "    }\n",
       "\n",
       "    .dataframe thead th {\n",
       "        text-align: right;\n",
       "    }\n",
       "</style>\n",
       "<table border=\"1\" class=\"dataframe\">\n",
       "  <thead>\n",
       "    <tr style=\"text-align: right;\">\n",
       "      <th></th>\n",
       "      <th>Dates</th>\n",
       "      <th>NbrQual</th>\n",
       "      <th>PredNbrQual</th>\n",
       "    </tr>\n",
       "  </thead>\n",
       "  <tbody>\n",
       "    <tr>\n",
       "      <td>0</td>\n",
       "      <td>2019-05-21</td>\n",
       "      <td>32</td>\n",
       "      <td>33.464011</td>\n",
       "    </tr>\n",
       "    <tr>\n",
       "      <td>1</td>\n",
       "      <td>2019-05-22</td>\n",
       "      <td>32</td>\n",
       "      <td>32.743435</td>\n",
       "    </tr>\n",
       "    <tr>\n",
       "      <td>2</td>\n",
       "      <td>2019-05-23</td>\n",
       "      <td>34</td>\n",
       "      <td>32.267061</td>\n",
       "    </tr>\n",
       "    <tr>\n",
       "      <td>3</td>\n",
       "      <td>2019-05-24</td>\n",
       "      <td>30</td>\n",
       "      <td>31.669902</td>\n",
       "    </tr>\n",
       "    <tr>\n",
       "      <td>4</td>\n",
       "      <td>2019-05-25</td>\n",
       "      <td>28</td>\n",
       "      <td>31.250315</td>\n",
       "    </tr>\n",
       "    <tr>\n",
       "      <td>5</td>\n",
       "      <td>2019-05-26</td>\n",
       "      <td>28</td>\n",
       "      <td>30.753254</td>\n",
       "    </tr>\n",
       "    <tr>\n",
       "      <td>6</td>\n",
       "      <td>2019-05-27</td>\n",
       "      <td>28</td>\n",
       "      <td>30.386226</td>\n",
       "    </tr>\n",
       "    <tr>\n",
       "      <td>7</td>\n",
       "      <td>2019-05-28</td>\n",
       "      <td>29</td>\n",
       "      <td>29.970922</td>\n",
       "    </tr>\n",
       "    <tr>\n",
       "      <td>8</td>\n",
       "      <td>2019-05-29</td>\n",
       "      <td>29</td>\n",
       "      <td>29.651583</td>\n",
       "    </tr>\n",
       "    <tr>\n",
       "      <td>9</td>\n",
       "      <td>2019-05-30</td>\n",
       "      <td>28</td>\n",
       "      <td>29.303474</td>\n",
       "    </tr>\n",
       "    <tr>\n",
       "      <td>10</td>\n",
       "      <td>2019-05-31</td>\n",
       "      <td>30</td>\n",
       "      <td>29.026790</td>\n",
       "    </tr>\n",
       "  </tbody>\n",
       "</table>\n",
       "</div>"
      ],
      "text/plain": [
       "        Dates  NbrQual  PredNbrQual\n",
       "0  2019-05-21       32    33.464011\n",
       "1  2019-05-22       32    32.743435\n",
       "2  2019-05-23       34    32.267061\n",
       "3  2019-05-24       30    31.669902\n",
       "4  2019-05-25       28    31.250315\n",
       "5  2019-05-26       28    30.753254\n",
       "6  2019-05-27       28    30.386226\n",
       "7  2019-05-28       29    29.970922\n",
       "8  2019-05-29       29    29.651583\n",
       "9  2019-05-30       28    29.303474\n",
       "10 2019-05-31       30    29.026790"
      ]
     },
     "execution_count": 50,
     "metadata": {},
     "output_type": "execute_result"
    }
   ],
   "source": [
    "new = test.merge(pred, on=['Dates'])\n",
    "new"
   ]
  },
  {
   "cell_type": "code",
   "execution_count": 51,
   "metadata": {
    "scrolled": false
   },
   "outputs": [
    {
     "data": {
      "image/png": "[encoded data removed]",
      "text/plain": [
       "<Figure size 960x480 with 1 Axes>"
      ]
     },
     "metadata": {},
     "output_type": "display_data"
    }
   ],
   "source": [
    "import matplotlib.pyplot as plt\n",
    "from matplotlib.pyplot import figure\n",
    "figure(num=None, figsize=(12,6), dpi=80, facecolor='w', edgecolor='k')\n",
    "plt.style.use('ggplot')\n",
    "a = new.set_index('Dates')\n",
    "ax = a['NbrQual'].plot()\n",
    "ax2 = a['PredNbrQual'].plot(label = 'prediction')\n",
    "ax.set_ylim(ymin=0)\n",
    "plt.legend()\n",
    "plt.show()"
   ]
  },
  {
   "cell_type": "code",
   "execution_count": 52,
   "metadata": {},
   "outputs": [
    {
     "name": "stdout",
     "output_type": "stream",
     "text": [
      "ARIMA(1,1,1) MSE Error: 3.303648698\n"
     ]
    }
   ],
   "source": [
    "from sklearn.metrics import mean_squared_error\n",
    "error = mean_squared_error(test['NbrQual'], predictions)\n",
    "print(f'ARIMA(1,1,1) MSE Error: {error:11.10}')"
   ]
  },
  {
   "cell_type": "code",
   "execution_count": null,
   "metadata": {},
   "outputs": [],
   "source": []
  }
 ],
 "metadata": {
  "kernelspec": {
   "display_name": "Python 3",
   "language": "python",
   "name": "python3"
  },
  "language_info": {
   "codemirror_mode": {
    "name": "ipython",
    "version": 3
   },
   "file_extension": ".py",
   "mimetype": "text/x-python",
   "name": "python",
   "nbconvert_exporter": "python",
   "pygments_lexer": "ipython3",
   "version": "3.7.4"
  }
 },
 "nbformat": 4,
 "nbformat_minor": 2
}
